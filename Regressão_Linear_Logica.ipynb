{
  "nbformat": 4,
  "nbformat_minor": 0,
  "metadata": {
    "colab": {
      "name": "Regressão_Linear_Logica.ipynb",
      "provenance": []
    },
    "kernelspec": {
      "name": "python3",
      "display_name": "Python 3"
    }
  },
  "cells": [
    {
      "cell_type": "code",
      "metadata": {
        "id": "7szBcz6bRMTD",
        "colab_type": "code",
        "colab": {}
      },
      "source": [
        "import pandas as pd\n",
        "import numpy as np\n",
        "import matplotlib.pyplot as plt\n",
        "from sklearn.linear_model import LogisticRegression"
      ],
      "execution_count": 0,
      "outputs": []
    },
    {
      "cell_type": "code",
      "metadata": {
        "id": "Ax9fAngoRpk9",
        "colab_type": "code",
        "colab": {
          "base_uri": "https://localhost:8080/",
          "height": 282
        },
        "outputId": "d53b12fe-4abe-4442-c391-6a83df0ce11e"
      },
      "source": [
        "base = pd.read_csv('Eleicao.csv', sep =';')\n",
        "plt.scatter(base.DESPESAS, base.SITUACAO)\n",
        "#Importando a base e grafico "
      ],
      "execution_count": 7,
      "outputs": [
        {
          "output_type": "execute_result",
          "data": {
            "text/plain": [
              "<matplotlib.collections.PathCollection at 0x7f17fd397668>"
            ]
          },
          "metadata": {
            "tags": []
          },
          "execution_count": 7
        },
        {
          "output_type": "display_data",
          "data": {
            "image/png": "[encoded data removed]",
            "text/plain": [
              "<Figure size 432x288 with 1 Axes>"
            ]
          },
          "metadata": {
            "tags": [],
            "needs_background": "light"
          }
        }
      ]
    },
    {
      "cell_type": "code",
      "metadata": {
        "id": "2mpgSJR1RpeM",
        "colab_type": "code",
        "colab": {
          "base_uri": "https://localhost:8080/",
          "height": 851
        },
        "outputId": "74df05b9-de69-47a1-b915-3d63eaa8911a"
      },
      "source": [
        "base.describe\n",
        "#Descrição base"
      ],
      "execution_count": 8,
      "outputs": [
        {
          "output_type": "execute_result",
          "data": {
            "text/plain": [
              "<bound method NDFrame.describe of             CANDIDATO  SITUACAO  DESPESAS\n",
              "0       George Turner         0        10\n",
              "1      Victor Johnson         0       100\n",
              "2         Jerry Perry         1      1600\n",
              "3        Shirley Cook         1      1500\n",
              "4      Carolyn Bailey         1      3300\n",
              "5       Susan Sanders         0       200\n",
              "6      Anthony Harris         1      1800\n",
              "7   Philip Richardson         1      1700\n",
              "8     Eugene Phillips         0       300\n",
              "9      Mildred Morris         1      1800\n",
              "10      Richard Jones         0       100\n",
              "11     Joan Hernandez         0       500\n",
              "12  Lawrence Mitchell         1      3000\n",
              "13       Annie Brooks         0        20\n",
              "14    Stephen Simmons         0       200\n",
              "15     Samuel Russell         1       700\n",
              "16        Jason Brown         1      1600\n",
              "17     Bobby Gonzalez         1      1900\n",
              "18     Steven Coleman         0       100\n",
              "19   Benjamin Ramirez         0       400\n",
              "20      Pamela Bryant         1      2700\n",
              "21        Billy Perez         0       200\n",
              "22       Julia Watson         0       300\n",
              "23       Laura Butler         0       500\n",
              "24      Gary Peterson         1      2500\n",
              "25         Carl Lewis         1      1400\n",
              "26     Virginia Scott         0       700\n",
              "27     Eric Alexander         1      1700\n",
              "28     Jane Rodriguez         1      1400\n",
              "29        Terry Smith         1      1600\n",
              "30    Donald Campbell         0       400\n",
              "31        Helen Young         0       200\n",
              "32    Dorothy Bennett         1      1600\n",
              "33    Stephanie Baker         1      2200\n",
              "34        Joseph Gray         1      1900\n",
              "35       Beverly King         0       200\n",
              "36       Lori Collins         0      1200\n",
              "37        Diana Moore         1      1700\n",
              "38        Diane Davis         1      1500\n",
              "39       Timothy Reed         1      2100\n",
              "40  Andrea Washington         0       400\n",
              "41    Nicholas Garcia         0       800\n",
              "42      Barbara White         0       400\n",
              "43          Mark Hall         1       500\n",
              "44    Katherine Price         0      1000\n",
              "45         Linda Long         0       300\n",
              "46     Harry Anderson         1       800>"
            ]
          },
          "metadata": {
            "tags": []
          },
          "execution_count": 8
        }
      ]
    },
    {
      "cell_type": "code",
      "metadata": {
        "id": "UWZVMjdORpai",
        "colab_type": "code",
        "colab": {
          "base_uri": "https://localhost:8080/",
          "height": 52
        },
        "outputId": "954d2359-b5f7-4d40-b020-a20452d9e6cd"
      },
      "source": [
        "np.corrcoef(base.DESPESAS, base.SITUACAO)\n",
        "#Analisando coeficiente de correlação"
      ],
      "execution_count": 9,
      "outputs": [
        {
          "output_type": "execute_result",
          "data": {
            "text/plain": [
              "array([[1.        , 0.81218717],\n",
              "       [0.81218717, 1.        ]])"
            ]
          },
          "metadata": {
            "tags": []
          },
          "execution_count": 9
        }
      ]
    },
    {
      "cell_type": "code",
      "metadata": {
        "id": "ufcjTafTRpWv",
        "colab_type": "code",
        "colab": {}
      },
      "source": [
        "x = base.iloc[:,2].values\n",
        "x = x[:, np.newaxis]\n",
        "y = base.iloc[:,1].values\n",
        "#Criando o X e Y e a segunda linha comando igual a reshap"
      ],
      "execution_count": 0,
      "outputs": []
    },
    {
      "cell_type": "code",
      "metadata": {
        "id": "5ztwrIHHRpSY",
        "colab_type": "code",
        "colab": {
          "base_uri": "https://localhost:8080/",
          "height": 34
        },
        "outputId": "e3144a84-4204-4f5b-b46b-9aa0c07ba667"
      },
      "source": [
        "modelo = LogisticRegression()\n",
        "modelo.fit(x,y)\n",
        "modelo.coef_\n",
        "modelo.intercept_\n",
        "#Gerando o modelo e prevendo"
      ],
      "execution_count": 12,
      "outputs": [
        {
          "output_type": "execute_result",
          "data": {
            "text/plain": [
              "array([-4.60287217])"
            ]
          },
          "metadata": {
            "tags": []
          },
          "execution_count": 12
        }
      ]
    },
    {
      "cell_type": "code",
      "metadata": {
        "id": "0rsHPofQXK1l",
        "colab_type": "code",
        "outputId": "87d2ec26-57ed-4a22-adea-24d946179706",
        "colab": {
          "base_uri": "https://localhost:8080/",
          "height": 282
        }
      },
      "source": [
        "x_teste = np.linspace(10,3000,100)\n",
        "def model(x):\n",
        "  return 1/(1+np.exp(-x))\n",
        "\n",
        "r = model(x_teste * modelo.coef_ + modelo.intercept_).ravel()\n",
        "plt.scatter(x,y)\n",
        "plt.plot(x_teste, r, color = 'red')\n",
        "#o def foi para criar a linha "
      ],
      "execution_count": 19,
      "outputs": [
        {
          "output_type": "execute_result",
          "data": {
            "text/plain": [
              "[<matplotlib.lines.Line2D at 0x7f17fcf11f98>]"
            ]
          },
          "metadata": {
            "tags": []
          },
          "execution_count": 19
        },
        {
          "output_type": "display_data",
          "data": {
            "image/png": "[encoded data removed]",
            "text/plain": [
              "<Figure size 432x288 with 1 Axes>"
            ]
          },
          "metadata": {
            "tags": [],
            "needs_background": "light"
          }
        }
      ]
    },
    {
      "cell_type": "markdown",
      "metadata": {
        "id": "u4KXLydMZX2x",
        "colab_type": "text"
      },
      "source": [
        ""
      ]
    },
    {
      "cell_type": "code",
      "metadata": {
        "id": "h-3XCO1tTftt",
        "colab_type": "code",
        "colab": {
          "base_uri": "https://localhost:8080/",
          "height": 34
        },
        "outputId": "eedb41f0-8580-4510-e89f-6526e3992c4b"
      },
      "source": [
        "base_prev = pd.read_csv('NovosCandidatos.csv', sep = ';')\n",
        "base_prev.columns\n",
        "#Importando a base e vendo as colunas"
      ],
      "execution_count": 29,
      "outputs": [
        {
          "output_type": "execute_result",
          "data": {
            "text/plain": [
              "Index(['CANDIDATO', 'DESPESAS'], dtype='object')"
            ]
          },
          "metadata": {
            "tags": []
          },
          "execution_count": 29
        }
      ]
    },
    {
      "cell_type": "code",
      "metadata": {
        "id": "VXWNE44gYxN0",
        "colab_type": "code",
        "colab": {}
      },
      "source": [
        "despesas = base_prev.iloc[:,1].values\n",
        "despesas = despesas.reshape(-1,1)\n",
        "previsoes_teste = modelo.predict(despesas)\n",
        "#Pegrando a variavel despesas e a prevendo"
      ],
      "execution_count": 0,
      "outputs": []
    },
    {
      "cell_type": "code",
      "metadata": {
        "id": "f_ZYWvTFaSgx",
        "colab_type": "code",
        "colab": {}
      },
      "source": [
        "base_prev = np.column_stack((base_prev, previsoes_teste))\n",
        "#Criando uma nova coluna e agregando na bsae_prev"
      ],
      "execution_count": 0,
      "outputs": []
    },
    {
      "cell_type": "code",
      "metadata": {
        "id": "xUbCBMTdaqEx",
        "colab_type": "code",
        "colab": {
          "base_uri": "https://localhost:8080/",
          "height": 139
        },
        "outputId": "affe22f6-00d0-403c-d82b-d9ec520ebf7a"
      },
      "source": [
        "base_prev\n",
        "#imprimindo"
      ],
      "execution_count": 36,
      "outputs": [
        {
          "output_type": "execute_result",
          "data": {
            "text/plain": [
              "array([['A', 0, 0],\n",
              "       ['B', 10, 0],\n",
              "       ['C', 200, 0],\n",
              "       ['D', 500, 0],\n",
              "       ['E', 900, 0],\n",
              "       ['F', 1500, 1],\n",
              "       ['G', 3000, 1]], dtype=object)"
            ]
          },
          "metadata": {
            "tags": []
          },
          "execution_count": 36
        }
      ]
    }
  ]
}