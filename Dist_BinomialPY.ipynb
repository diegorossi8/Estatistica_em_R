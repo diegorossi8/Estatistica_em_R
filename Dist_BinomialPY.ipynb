from scipy.stats import binom

# Jogar uma moeda 5 vezes e dar cara 3 vezes.
prob = binom.pmf(3,5,0.5)
binom.pmf(3,5,0.5)

#Passar por 4 semafaros de 4 tempo cada e estar 0 aberto 1 aberto... 4 abertos.
binom.pmf(0,4,0.25)
binom.pmf(1,4,0.25)
binom.pmf(2,4,0.25)
binom.pmf(3,4,0.25)
binom.pmf(4,4,0.25)

#probabilidade acumulativa
binom.cdf(4,4,0.25)


#Fazer uma prova de multipla escolha com 12 questões que tem alternativas A, B, C, D e acertar 7 questões chutando a prova toda.
binom.pmf(7,12,0.25)