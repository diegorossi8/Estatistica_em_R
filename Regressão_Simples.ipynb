{
  "nbformat": 4,
  "nbformat_minor": 0,
  "metadata": {
    "colab": {
      "name": "Regressão_Simples.ipynb",
      "provenance": [],
      "collapsed_sections": []
    },
    "kernelspec": {
      "name": "python3",
      "display_name": "Python 3"
    }
  },
  "cells": [
    {
      "cell_type": "code",
      "metadata": {
        "id": "vP5zS5qa4IG1",
        "colab_type": "code",
        "colab": {}
      },
      "source": [
        "import pandas as pd\n",
        "import numpy as np\n",
        "import matplotlib.pyplot as plt\n",
        "from sklearn.linear_model import LinearRegression"
      ],
      "execution_count": 0,
      "outputs": []
    },
    {
      "cell_type": "code",
      "metadata": {
        "id": "5FfdslDk67dg",
        "colab_type": "code",
        "colab": {}
      },
      "source": [
        "base = pd.read_csv ('cars.csv')\n",
        "#Importando a base"
      ],
      "execution_count": 0,
      "outputs": []
    },
    {
      "cell_type": "code",
      "metadata": {
        "id": "4RZLq-Th7F5P",
        "colab_type": "code",
        "outputId": "77e8675d-0470-4474-8019-9a23a7e84d40",
        "colab": {
          "base_uri": "https://localhost:8080/",
          "height": 34
        }
      },
      "source": [
        "base.columns\n",
        "#Imprime colunas"
      ],
      "execution_count": 0,
      "outputs": [
        {
          "output_type": "execute_result",
          "data": {
            "text/plain": [
              "Index(['Unnamed: 0', 'speed', 'dist'], dtype='object')"
            ]
          },
          "metadata": {
            "tags": []
          },
          "execution_count": 6
        }
      ]
    },
    {
      "cell_type": "code",
      "metadata": {
        "id": "j33fvrQZ7F15",
        "colab_type": "code",
        "colab": {}
      },
      "source": [
        "base = base.drop(['Unnamed: 0'], axis= 1)\n",
        "#Apagando colunas que não usarei"
      ],
      "execution_count": 0,
      "outputs": []
    },
    {
      "cell_type": "code",
      "metadata": {
        "id": "F6fbmlJC7Fm_",
        "colab_type": "code",
        "outputId": "a6ce1fc9-2655-475a-d007-262c011aba5d",
        "colab": {
          "base_uri": "https://localhost:8080/",
          "height": 34
        }
      },
      "source": [
        "base.columns"
      ],
      "execution_count": 0,
      "outputs": [
        {
          "output_type": "execute_result",
          "data": {
            "text/plain": [
              "Index(['speed', 'dist'], dtype='object')"
            ]
          },
          "metadata": {
            "tags": []
          },
          "execution_count": 8
        }
      ]
    },
    {
      "cell_type": "code",
      "metadata": {
        "id": "vhKWgCSy7lNY",
        "colab_type": "code",
        "colab": {}
      },
      "source": [
        "x = base.iloc[:, 1].values\n",
        "#Transformou a coluna distancia em um vetor\n",
        "y = base.iloc[:, 0].values\n",
        "#Tranbformou a coluna speed em um vetor"
      ],
      "execution_count": 0,
      "outputs": []
    },
    {
      "cell_type": "code",
      "metadata": {
        "id": "dTtofguT7lJ6",
        "colab_type": "code",
        "colab": {}
      },
      "source": [
        "correlacao = np.corrcoef(x,y)\n",
        "#Criando a correlação"
      ],
      "execution_count": 0,
      "outputs": []
    },
    {
      "cell_type": "code",
      "metadata": {
        "id": "wCmUyHDG7lGV",
        "colab_type": "code",
        "outputId": "9527ca3d-79cc-4f2d-df1e-30a9904475a9",
        "colab": {
          "base_uri": "https://localhost:8080/",
          "height": 34
        }
      },
      "source": [
        "modelo = LinearRegression()\n",
        "#Criando os modelos\n",
        "x = x.reshape(-1, 1)\n",
        "#Transformando o array em uma coluna\n",
        "modelo.fit(x,y)\n"
      ],
      "execution_count": 0,
      "outputs": [
        {
          "output_type": "execute_result",
          "data": {
            "text/plain": [
              "LinearRegression(copy_X=True, fit_intercept=True, n_jobs=None, normalize=False)"
            ]
          },
          "metadata": {
            "tags": []
          },
          "execution_count": 27
        }
      ]
    },
    {
      "cell_type": "code",
      "metadata": {
        "id": "jrHtNo9D9WMb",
        "colab_type": "code",
        "outputId": "9740e2fd-8c55-4d94-c004-5a237c43ea17",
        "colab": {
          "base_uri": "https://localhost:8080/",
          "height": 34
        }
      },
      "source": [
        "modelo.intercept_\n",
        "modelo.coef_"
      ],
      "execution_count": 0,
      "outputs": [
        {
          "output_type": "execute_result",
          "data": {
            "text/plain": [
              "array([0.16556757])"
            ]
          },
          "metadata": {
            "tags": []
          },
          "execution_count": 28
        }
      ]
    },
    {
      "cell_type": "code",
      "metadata": {
        "id": "GL4kCxJb-YaZ",
        "colab_type": "code",
        "outputId": "37da7583-e770-4c46-dce2-0dac51660873",
        "colab": {
          "base_uri": "https://localhost:8080/",
          "height": 282
        }
      },
      "source": [
        "plt.scatter(x,y)\n",
        "#Gerando grafico\n",
        "plt.plot(x, modelo.predict(x), color= 'red')\n",
        "#Gerando a linha"
      ],
      "execution_count": 0,
      "outputs": [
        {
          "output_type": "execute_result",
          "data": {
            "text/plain": [
              "[<matplotlib.lines.Line2D at 0x7f61dda47898>]"
            ]
          },
          "metadata": {
            "tags": []
          },
          "execution_count": 29
        },
        {
          "output_type": "display_data",
          "data": {
            "image/png": "[encoded data removed]",
            "text/plain": [
              "<Figure size 432x288 with 1 Axes>"
            ]
          },
          "metadata": {
            "tags": [],
            "needs_background": "light"
          }
        }
      ]
    },
    {
      "cell_type": "code",
      "metadata": {
        "id": "s3t3Pe_1_BPE",
        "colab_type": "code",
        "outputId": "886e3af3-943c-4364-b91a-39f9ba3ef63d",
        "colab": {
          "base_uri": "https://localhost:8080/",
          "height": 34
        }
      },
      "source": [
        "#Distancia de parada do veiculo 22 qual a velocidade?\n",
        "modelo.intercept_ + modelo.coef_ *22"
      ],
      "execution_count": 0,
      "outputs": [
        {
          "output_type": "execute_result",
          "data": {
            "text/plain": [
              "array([11.92639228])"
            ]
          },
          "metadata": {
            "tags": []
          },
          "execution_count": 30
        }
      ]
    },
    {
      "cell_type": "code",
      "metadata": {
        "id": "bFU79LLn_Vo_",
        "colab_type": "code",
        "outputId": "087562dd-16cd-4ee3-cfce-0d2485793046",
        "colab": {
          "base_uri": "https://localhost:8080/",
          "height": 34
        }
      },
      "source": [
        "modelo._residues"
      ],
      "execution_count": 0,
      "outputs": [
        {
          "output_type": "execute_result",
          "data": {
            "text/plain": [
              "478.02124836119646"
            ]
          },
          "metadata": {
            "tags": []
          },
          "execution_count": 34
        }
      ]
    }
  ]
}