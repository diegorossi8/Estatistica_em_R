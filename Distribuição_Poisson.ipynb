{
  "nbformat": 4,
  "nbformat_minor": 0,
  "metadata": {
    "colab": {
      "name": "Distribuição_Poisson.ipynb",
      "provenance": []
    },
    "kernelspec": {
      "name": "python3",
      "display_name": "Python 3"
    }
  },
  "cells": [
    {
      "cell_type": "code",
      "metadata": {
        "id": "jFpRas537qmb",
        "colab_type": "code",
        "colab": {}
      },
      "source": [
        "from scipy.stats import poisson"
      ],
      "execution_count": 0,
      "outputs": []
    },
    {
      "cell_type": "code",
      "metadata": {
        "id": "uEWjdhx-74YI",
        "colab_type": "code",
        "colab": {
          "base_uri": "https://localhost:8080/",
          "height": 34
        },
        "outputId": "01b3126d-1aab-4bb7-adae-5a0841e8b214"
      },
      "source": [
        "#Media de dois acidentes por dia\n",
        "\n",
        "# 1- Prob. de 3 acidentes no mesmo dia\n",
        "poisson.pmf(3,2)*100"
      ],
      "execution_count": 3,
      "outputs": [
        {
          "output_type": "execute_result",
          "data": {
            "text/plain": [
              "18.044704431548357"
            ]
          },
          "metadata": {
            "tags": []
          },
          "execution_count": 3
        }
      ]
    },
    {
      "cell_type": "code",
      "metadata": {
        "id": "UEEMfmhd8bK5",
        "colab_type": "code",
        "colab": {
          "base_uri": "https://localhost:8080/",
          "height": 34
        },
        "outputId": "6d289cea-a7f0-4cb6-cd14-129cdfa098fe"
      },
      "source": [
        "# 2- Prob. de 3 ou menos acidentes no mesmo dia\n",
        "poisson.cdf(3,2)*100\n"
      ],
      "execution_count": 4,
      "outputs": [
        {
          "output_type": "execute_result",
          "data": {
            "text/plain": [
              "85.7123460498547"
            ]
          },
          "metadata": {
            "tags": []
          },
          "execution_count": 4
        }
      ]
    },
    {
      "cell_type": "code",
      "metadata": {
        "id": "pJNiYgyU8bIS",
        "colab_type": "code",
        "colab": {
          "base_uri": "https://localhost:8080/",
          "height": 34
        },
        "outputId": "8dacad69-5eda-4502-ec38-4cacf02b4ebc"
      },
      "source": [
        "# 3- Prob. de ter mais que 3 acidentes no mesmo dia\n",
        "poisson.sf(3,2)*100"
      ],
      "execution_count": 5,
      "outputs": [
        {
          "output_type": "execute_result",
          "data": {
            "text/plain": [
              "14.287653950145296"
            ]
          },
          "metadata": {
            "tags": []
          },
          "execution_count": 5
        }
      ]
    }
  ]
}