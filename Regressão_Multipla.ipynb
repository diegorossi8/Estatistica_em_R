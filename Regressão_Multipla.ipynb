{
  "nbformat": 4,
  "nbformat_minor": 0,
  "metadata": {
    "colab": {
      "name": "Regressão_Multipla.ipynb",
      "provenance": [],
      "collapsed_sections": []
    },
    "kernelspec": {
      "name": "python3",
      "display_name": "Python 3"
    }
  },
  "cells": [
    {
      "cell_type": "code",
      "metadata": {
        "id": "JuHKhnsyypwm",
        "colab_type": "code",
        "colab": {}
      },
      "source": [
        "import pandas as pd\n",
        "import numpy as np\n",
        "import matplotlib as plt\n",
        "from sklearn.linear_model import LinearRegression\n",
        "import statsmodels.formula.api as sm\n",
        "#Biblioteca para trabalhar com coddigos de R no PY"
      ],
      "execution_count": 0,
      "outputs": []
    },
    {
      "cell_type": "code",
      "metadata": {
        "id": "gCow4ePb4oaa",
        "colab_type": "code",
        "colab": {}
      },
      "source": [
        "base = pd.read_csv('mt_cars.csv')\n",
        "base.columns\n",
        "#Importando a base e verificando as colunas"
      ],
      "execution_count": 0,
      "outputs": []
    },
    {
      "cell_type": "code",
      "metadata": {
        "id": "fORrsQ214oXc",
        "colab_type": "code",
        "colab": {}
      },
      "source": [
        "base = base.drop(['Unnamed: 0'], axis=1)\n",
        "base.columns\n",
        "#Excluindo coluna desnecessaria e visualindo as colunas"
      ],
      "execution_count": 0,
      "outputs": []
    },
    {
      "cell_type": "code",
      "metadata": {
        "id": "WnV4b0-g4oVF",
        "colab_type": "code",
        "colab": {}
      },
      "source": [
        "x = base.iloc[:, 1:4].values\n",
        "#Atribuindo ao xas colunas de 1 a 4 \n",
        "y = base.iloc[:, 0].values\n",
        "#Atribuindo ao y a coluna 0"
      ],
      "execution_count": 0,
      "outputs": []
    },
    {
      "cell_type": "code",
      "metadata": {
        "id": "iox2nLaK4oPk",
        "colab_type": "code",
        "colab": {}
      },
      "source": [
        "modelo = LinearRegression()\n",
        "modelo.fit(x,y)\n",
        "#Criando o modelo"
      ],
      "execution_count": 0,
      "outputs": []
    },
    {
      "cell_type": "code",
      "metadata": {
        "id": "yoYrP8Su6Z8p",
        "colab_type": "code",
        "colab": {
          "base_uri": "https://localhost:8080/",
          "height": 34
        },
        "outputId": "9d6bf448-06af-4954-ecd7-f484d41e1936"
      },
      "source": [
        "modelo.score(x,y)\n",
        "#Visualizando o score do modelo"
      ],
      "execution_count": 18,
      "outputs": [
        {
          "output_type": "execute_result",
          "data": {
            "text/plain": [
              "0.7678877440928638"
            ]
          },
          "metadata": {
            "tags": []
          },
          "execution_count": 18
        }
      ]
    },
    {
      "cell_type": "code",
      "metadata": {
        "id": "N8ySVe4B6Z45",
        "colab_type": "code",
        "colab": {}
      },
      "source": [
        "modelajust = sm.ols(formula='mpg ~ cyl + disp + hp', data = base)\n",
        "modeltrain = modelajust.fit()\n",
        "modeltrain.summary\n",
        "#Etapa realizada utilizando codigos de R para ficar mais facil de fazer o R² ajustado"
      ],
      "execution_count": 0,
      "outputs": []
    },
    {
      "cell_type": "code",
      "metadata": {
        "id": "UegAbppn6Z0v",
        "colab_type": "code",
        "colab": {
          "base_uri": "https://localhost:8080/",
          "height": 34
        },
        "outputId": "50023e40-6ebc-4376-ede4-12de1073c931"
      },
      "source": [
        "novo = np.array([4,200,100])\n",
        "#Tem que ser passado um vetor para o teste com as ordens respeitadas\n",
        "novo = novo.reshape(1,-1)\n",
        "#Convertendo o vetor\n",
        "modelo.predict(novo)\n",
        "#Realizando a previsão"
      ],
      "execution_count": 17,
      "outputs": [
        {
          "output_type": "execute_result",
          "data": {
            "text/plain": [
              "array([24.03968887])"
            ]
          },
          "metadata": {
            "tags": []
          },
          "execution_count": 17
        }
      ]
    }
  ]
}